{
 "cells": [
  {
   "cell_type": "markdown",
   "id": "2b1c0532-e751-4803-a365-1d0bb9a4c7f5",
   "metadata": {},
   "source": [
    "# perceptron\n",
    "\n",
    "### inputs \n",
    " - training data\n",
    " - labels\n",
    " - rate of learning\n",
    " - epochs\n",
    " - random seed\n",
    "\n",
    "### outputs \n",
    " - final weights\n",
    " - no. of epochs\n",
    " - error(loss?) in each epoch\n",
    "\n"
   ]
  },
  {
   "cell_type": "code",
   "execution_count": 18,
   "id": "88ef7f46-dd26-4daa-81ef-4d23be4e4289",
   "metadata": {},
   "outputs": [
    {
     "name": "stdout",
     "output_type": "stream",
     "text": [
      "           x1        x2  label\n",
      "0    0.254018 -0.402391     -1\n",
      "1    0.180883  0.510887      1\n",
      "2    0.227152  0.467715      1\n",
      "3   -0.122832  0.502635      1\n",
      "4    0.437193 -0.579592     -1\n",
      "..        ...       ...    ...\n",
      "135  0.652045  0.575919      1\n",
      "136 -0.001194  0.500983      1\n",
      "137  0.387381  0.714670      1\n",
      "138  1.155703  0.502584     -1\n",
      "139  0.783104  0.641614      1\n",
      "\n",
      "[140 rows x 3 columns]\n"
     ]
    }
   ],
   "source": [
    "import pandas as pd\n",
    "\n",
    "df = pd.read_csv(\"datasets/train_dataset1.csv\")\n",
    "\n",
    "print(df)"
   ]
  },
  {
   "cell_type": "code",
   "execution_count": 32,
   "id": "113643b9-40c3-4f84-8e17-63d593afe46a",
   "metadata": {},
   "outputs": [
    {
     "name": "stdout",
     "output_type": "stream",
     "text": [
      "           x1\n",
      "0    0.254018\n",
      "1    0.180883\n",
      "2    0.227152\n",
      "3   -0.122832\n",
      "4    0.437193\n",
      "..        ...\n",
      "135  0.652045\n",
      "136 -0.001194\n",
      "137  0.387381\n",
      "138  1.155703\n",
      "139  0.783104\n",
      "\n",
      "[140 rows x 1 columns]\n",
      "     label\n",
      "0       -1\n",
      "1        1\n",
      "2        1\n",
      "3        1\n",
      "4       -1\n",
      "..     ...\n",
      "135      1\n",
      "136      1\n",
      "137      1\n",
      "138     -1\n",
      "139      1\n",
      "\n",
      "[140 rows x 1 columns]\n"
     ]
    },
    {
     "ename": "TypeError",
     "evalue": "can't multiply sequence by non-int of type 'float'",
     "output_type": "error",
     "traceback": [
      "\u001b[31m---------------------------------------------------------------------------\u001b[39m",
      "\u001b[31mTypeError\u001b[39m                                 Traceback (most recent call last)",
      "\u001b[36mCell\u001b[39m\u001b[36m \u001b[39m\u001b[32mIn[32]\u001b[39m\u001b[32m, line 26\u001b[39m\n\u001b[32m     22\u001b[39m     final = activation(weighted_sum)\n\u001b[32m     24\u001b[39m     \u001b[38;5;28;01mreturn\u001b[39;00m final\n\u001b[32m---> \u001b[39m\u001b[32m26\u001b[39m output = \u001b[43mperceptron_one_neuron\u001b[49m\u001b[43m(\u001b[49m\u001b[43m)\u001b[49m\n",
      "\u001b[36mCell\u001b[39m\u001b[36m \u001b[39m\u001b[32mIn[32]\u001b[39m\u001b[32m, line 20\u001b[39m, in \u001b[36mperceptron_one_neuron\u001b[39m\u001b[34m()\u001b[39m\n\u001b[32m     17\u001b[39m weighted_sum=\u001b[32m0\u001b[39m\n\u001b[32m     19\u001b[39m \u001b[38;5;28;01mfor\u001b[39;00m x,w \u001b[38;5;129;01min\u001b[39;00m \u001b[38;5;28mzip\u001b[39m(inputs[[\u001b[33m'\u001b[39m\u001b[33mx1\u001b[39m\u001b[33m'\u001b[39m]], weights):\n\u001b[32m---> \u001b[39m\u001b[32m20\u001b[39m     weighted_sum += (\u001b[43mw\u001b[49m\u001b[43m*\u001b[49m\u001b[43mx\u001b[49m)\n\u001b[32m     22\u001b[39m final = activation(weighted_sum)\n\u001b[32m     24\u001b[39m \u001b[38;5;28;01mreturn\u001b[39;00m final\n",
      "\u001b[31mTypeError\u001b[39m: can't multiply sequence by non-int of type 'float'"
     ]
    }
   ],
   "source": [
    "import numpy as np\n",
    "\n",
    "inputs = df.drop(['label'], axis=1)\n",
    "train_output = df[['label']]\n",
    "weights = [0.3, 0.4]\n",
    "\n",
    "print(inputs[['x1']])\n",
    "print(train_output)\n",
    "\n",
    "def activation(weighted_sum):\n",
    "    if weighted_sum > thresh:\n",
    "        return 1\n",
    "    else:\n",
    "        return 0\n",
    "\n",
    "def perceptron_one_neuron():\n",
    "    weighted_sum=0\n",
    "    \n",
    "    for x,w in zip(inputs[['x1']], weights):\n",
    "        weighted_sum += (w*x)\n",
    "\n",
    "    final = activation(weighted_sum)\n",
    "\n",
    "    return final\n",
    "\n",
    "output = perceptron_one_neuron()"
   ]
  }
 ],
 "metadata": {
  "kernelspec": {
   "display_name": "Python 3 (ipykernel)",
   "language": "python",
   "name": "python3"
  },
  "language_info": {
   "codemirror_mode": {
    "name": "ipython",
    "version": 3
   },
   "file_extension": ".py",
   "mimetype": "text/x-python",
   "name": "python",
   "nbconvert_exporter": "python",
   "pygments_lexer": "ipython3",
   "version": "3.12.3"
  }
 },
 "nbformat": 4,
 "nbformat_minor": 5
}
