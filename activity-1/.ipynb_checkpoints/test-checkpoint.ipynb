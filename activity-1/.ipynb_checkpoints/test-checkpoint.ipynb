{
 "cells": [
  {
   "cell_type": "markdown",
   "id": "f5231216-6ccf-4466-b463-5a38f1172eff",
   "metadata": {},
   "source": [
    "# practicing \n",
    "\n",
    "practicing implementing perceptron through a tutorial because python ruined my programming skills :("
   ]
  },
  {
   "cell_type": "code",
   "execution_count": 8,
   "id": "db410caa-1055-42af-ac09-b32586c5153a",
   "metadata": {},
   "outputs": [
    {
     "name": "stdout",
     "output_type": "stream",
     "text": [
      "0.04000000000000001\n",
      "0.19\n",
      "0.31\n",
      "False\n"
     ]
    }
   ],
   "source": [
    "x_input = [0.1, 0.5, 0.2]\n",
    "w_weights = [0.4, 0.3, 0.6]\n",
    "threshold = 0.5\n",
    "\n",
    "# activation function\n",
    "def step(weighted_sum):\n",
    "\n",
    "    if weighted_sum > threshold:\n",
    "        return True\n",
    "    else:\n",
    "        return False\n",
    "\n",
    "def perceptron():\n",
    "    weighted_sum = 0\n",
    "\n",
    "    for x,w in zip(x_input, w_weights):\n",
    "        weighted_sum += (x*w)\n",
    "        print(weighted_sum)\n",
    "\n",
    "    return step(weighted_sum) \n",
    "\n",
    "output = perceptron()\n",
    "print(output)"
   ]
  }
 ],
 "metadata": {
  "kernelspec": {
   "display_name": "Python 3 (ipykernel)",
   "language": "python",
   "name": "python3"
  },
  "language_info": {
   "codemirror_mode": {
    "name": "ipython",
    "version": 3
   },
   "file_extension": ".py",
   "mimetype": "text/x-python",
   "name": "python",
   "nbconvert_exporter": "python",
   "pygments_lexer": "ipython3",
   "version": "3.12.3"
  }
 },
 "nbformat": 4,
 "nbformat_minor": 5
}
